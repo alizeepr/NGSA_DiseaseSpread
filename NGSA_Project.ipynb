{
 "cells": [
  {
   "cell_type": "code",
   "execution_count": 3,
   "metadata": {
    "scrolled": true
   },
   "outputs": [
    {
     "name": "stdout",
     "output_type": "stream",
     "text": [
      "Number of nodes 151\n",
      "Number of edges 1851\n"
     ]
    }
   ],
   "source": [
    "import pandas as pd\n",
    "import networkx as nx\n",
    "from math import exp\n",
    "import matplotlib.pyplot as plt\n",
    "import numpy as np\n",
    "\n",
    "nodes = pd.read_csv('routes.csv', header=None, names=['i', 'j'])\n",
    "g = nx.from_pandas_edgelist(nodes, 'i', 'j')\n",
    "print('Number of nodes', g.number_of_nodes())\n",
    "print('Number of edges', g.number_of_edges())"
   ]
  },
  {
   "cell_type": "code",
   "execution_count": 4,
   "metadata": {},
   "outputs": [
    {
     "data": {
      "text/html": [
       "<div>\n",
       "<style scoped>\n",
       "    .dataframe tbody tr th:only-of-type {\n",
       "        vertical-align: middle;\n",
       "    }\n",
       "\n",
       "    .dataframe tbody tr th {\n",
       "        vertical-align: top;\n",
       "    }\n",
       "\n",
       "    .dataframe thead th {\n",
       "        text-align: right;\n",
       "    }\n",
       "</style>\n",
       "<table border=\"1\" class=\"dataframe\">\n",
       "  <thead>\n",
       "    <tr style=\"text-align: right;\">\n",
       "      <th></th>\n",
       "      <th>population</th>\n",
       "      <th>travellers</th>\n",
       "      <th>hdi</th>\n",
       "    </tr>\n",
       "    <tr>\n",
       "      <th>country</th>\n",
       "      <th></th>\n",
       "      <th></th>\n",
       "      <th></th>\n",
       "    </tr>\n",
       "  </thead>\n",
       "  <tbody>\n",
       "    <tr>\n",
       "      <th>Afghanistan</th>\n",
       "      <td>32760000.0</td>\n",
       "      <td>37113.596154</td>\n",
       "      <td>0.498</td>\n",
       "    </tr>\n",
       "    <tr>\n",
       "      <th>Albania</th>\n",
       "      <td>2900000.0</td>\n",
       "      <td>79730.769231</td>\n",
       "      <td>0.773</td>\n",
       "    </tr>\n",
       "    <tr>\n",
       "      <th>Algeria</th>\n",
       "      <td>39100000.0</td>\n",
       "      <td>54596.153846</td>\n",
       "      <td>0.747</td>\n",
       "    </tr>\n",
       "    <tr>\n",
       "      <th>Angola</th>\n",
       "      <td>26920000.0</td>\n",
       "      <td>23932.519231</td>\n",
       "      <td>0.581</td>\n",
       "    </tr>\n",
       "    <tr>\n",
       "      <th>Antigua and Barbuda</th>\n",
       "      <td>98000.0</td>\n",
       "      <td>19996.326923</td>\n",
       "      <td>0.780</td>\n",
       "    </tr>\n",
       "  </tbody>\n",
       "</table>\n",
       "</div>"
      ],
      "text/plain": [
       "                     population    travellers    hdi\n",
       "country                                             \n",
       "Afghanistan          32760000.0  37113.596154  0.498\n",
       "Albania               2900000.0  79730.769231  0.773\n",
       "Algeria              39100000.0  54596.153846  0.747\n",
       "Angola               26920000.0  23932.519231  0.581\n",
       "Antigua and Barbuda     98000.0  19996.326923  0.780"
      ]
     },
     "execution_count": 4,
     "metadata": {},
     "output_type": "execute_result"
    }
   ],
   "source": [
    "# We have a dataframe of countries (nodes)\n",
    "countries = pd.read_csv('data.csv')\n",
    "countries.set_index('country', inplace=True)\n",
    "countries['population'] = 1000000*countries['population']\n",
    "# Travellers are for an entire year, but our timeline is weekly\n",
    "countries['travellers'] = countries['travellers']/52\n",
    "\n",
    "countries.head()"
   ]
  },
  {
   "cell_type": "code",
   "execution_count": 5,
   "metadata": {},
   "outputs": [
    {
     "name": "stdout",
     "output_type": "stream",
     "text": [
      "Albania's neighbors : ['Austria', 'Germany', 'Greece', 'Italy', 'Slovenia', 'Turkey', 'United Kingdom']\n"
     ]
    },
    {
     "data": {
      "text/html": [
       "<div>\n",
       "<style scoped>\n",
       "    .dataframe tbody tr th:only-of-type {\n",
       "        vertical-align: middle;\n",
       "    }\n",
       "\n",
       "    .dataframe tbody tr th {\n",
       "        vertical-align: top;\n",
       "    }\n",
       "\n",
       "    .dataframe thead th {\n",
       "        text-align: right;\n",
       "    }\n",
       "</style>\n",
       "<table border=\"1\" class=\"dataframe\">\n",
       "  <thead>\n",
       "    <tr style=\"text-align: right;\">\n",
       "      <th></th>\n",
       "      <th>population</th>\n",
       "      <th>travellers</th>\n",
       "      <th>hdi</th>\n",
       "      <th>sum_travel_neighbors</th>\n",
       "    </tr>\n",
       "    <tr>\n",
       "      <th>country</th>\n",
       "      <th></th>\n",
       "      <th></th>\n",
       "      <th></th>\n",
       "      <th></th>\n",
       "    </tr>\n",
       "  </thead>\n",
       "  <tbody>\n",
       "    <tr>\n",
       "      <th>Afghanistan</th>\n",
       "      <td>32760000.0</td>\n",
       "      <td>37113.596154</td>\n",
       "      <td>0.498</td>\n",
       "      <td>2.739243e+06</td>\n",
       "    </tr>\n",
       "    <tr>\n",
       "      <th>Albania</th>\n",
       "      <td>2900000.0</td>\n",
       "      <td>79730.769231</td>\n",
       "      <td>0.773</td>\n",
       "      <td>3.826346e+06</td>\n",
       "    </tr>\n",
       "    <tr>\n",
       "      <th>Algeria</th>\n",
       "      <td>39100000.0</td>\n",
       "      <td>54596.153846</td>\n",
       "      <td>0.747</td>\n",
       "      <td>1.192336e+07</td>\n",
       "    </tr>\n",
       "    <tr>\n",
       "      <th>Angola</th>\n",
       "      <td>26920000.0</td>\n",
       "      <td>23932.519231</td>\n",
       "      <td>0.581</td>\n",
       "      <td>9.622885e+06</td>\n",
       "    </tr>\n",
       "    <tr>\n",
       "      <th>Antigua and Barbuda</th>\n",
       "      <td>98000.0</td>\n",
       "      <td>19996.326923</td>\n",
       "      <td>0.780</td>\n",
       "      <td>6.018484e+06</td>\n",
       "    </tr>\n",
       "  </tbody>\n",
       "</table>\n",
       "</div>"
      ],
      "text/plain": [
       "                     population    travellers    hdi  sum_travel_neighbors\n",
       "country                                                                   \n",
       "Afghanistan          32760000.0  37113.596154  0.498          2.739243e+06\n",
       "Albania               2900000.0  79730.769231  0.773          3.826346e+06\n",
       "Algeria              39100000.0  54596.153846  0.747          1.192336e+07\n",
       "Angola               26920000.0  23932.519231  0.581          9.622885e+06\n",
       "Antigua and Barbuda     98000.0  19996.326923  0.780          6.018484e+06"
      ]
     },
     "execution_count": 5,
     "metadata": {},
     "output_type": "execute_result"
    }
   ],
   "source": [
    "# For each country, we need the travellers going from the neighboring countries\n",
    "def return_list_neighbors(i, g):\n",
    "    return [j for j in g.neighbors(i)]\n",
    "print('Albania\\'s neighbors :', return_list_neighbors('Albania', g))\n",
    "\n",
    "# For all countries\n",
    "def compute_sum_travelers_neighboring_countries(g):\n",
    "    sum_travel_neighbors = []\n",
    "    for i in countries.index:\n",
    "        neighbors = return_list_neighbors(i, g)\n",
    "        sum = 0\n",
    "        for n in neighbors:\n",
    "            sum += countries.loc[n]['travellers']\n",
    "        sum_travel_neighbors.append(sum)\n",
    "    return sum_travel_neighbors\n",
    "countries['sum_travel_neighbors'] = compute_sum_travelers_neighboring_countries(g)\n",
    "\n",
    "countries.head()"
   ]
  },
  {
   "cell_type": "code",
   "execution_count": 6,
   "metadata": {},
   "outputs": [
    {
     "name": "stdout",
     "output_type": "stream",
     "text": [
      "{'weight': 88582.44661152952}\n",
      "{'weight': 62802.53397113779}\n"
     ]
    }
   ],
   "source": [
    "# W_ij the weight between country i and j represents the number of travellers between i and j\n",
    "def compute_edge_weight(i, j):\n",
    "    return countries.loc[i]['travellers']*countries.loc[j]['travellers']/(countries.loc[i]['sum_travel_neighbors'])\n",
    "        \n",
    "def add_edge_weights():\n",
    "    for e in g.edges():\n",
    "        g[e[0]][e[1]]['weight'] = compute_edge_weight(e[0], e[1])\n",
    "\n",
    "add_edge_weights()\n",
    "print(g['France']['Germany'])\n",
    "print(g['France']['United Kingdom'])"
   ]
  },
  {
   "cell_type": "code",
   "execution_count": 7,
   "metadata": {},
   "outputs": [],
   "source": [
    "# Initialisation for our model :\n",
    "r0 = 3\n",
    "alpha = 0.06\n",
    "beta = 1\n",
    "period = 10\n",
    "mortality_rate = 0.2\n",
    "country_start = 'France'\n",
    "nb_infected_start = 100\n",
    "\n",
    "# # Initialisation for t=0 :\n",
    "countries['incubation0'] = np.zeros(countries.shape[0])\n",
    "countries['sick0'] = np.zeros(countries.shape[0])\n",
    "countries['recovered0'] = np.zeros(countries.shape[0])\n",
    "countries['infected0'] = np.zeros(countries.shape[0])\n",
    "countries['healthy0'] = countries['population']\n",
    "# We infect the starting country with a certain number of people\n",
    "countries.loc[country_start]['infected0'] = nb_infected_start\n",
    "countries.loc[country_start]['incubation0'] = nb_infected_start\n",
    "countries.loc[country_start]['healthy0'] = countries.loc[country_start]['population'] - countries.loc[country_start]['incubation0']"
   ]
  },
  {
   "cell_type": "code",
   "execution_count": 24,
   "metadata": {},
   "outputs": [
    {
     "data": {
      "text/plain": [
       "(array([ 2.,  6., 12., 10., 11., 19., 25., 24., 17., 25.]),\n",
       " array([0.354 , 0.4132, 0.4724, 0.5316, 0.5908, 0.65  , 0.7092, 0.7684,\n",
       "        0.8276, 0.8868, 0.946 ]),\n",
       " <a list of 10 Patch objects>)"
      ]
     },
     "execution_count": 24,
     "metadata": {},
     "output_type": "execute_result"
    },
    {
     "data": {
      "image/png": "[encoded data removed]",
      "text/plain": [
       "<Figure size 432x288 with 1 Axes>"
      ]
     },
     "metadata": {
      "needs_background": "light"
     },
     "output_type": "display_data"
    }
   ],
   "source": [
    "from matplotlib import pyplot\n",
    "pyplot.hist(countries['hdi'])"
   ]
  },
  {
   "cell_type": "code",
   "execution_count": 50,
   "metadata": {},
   "outputs": [
    {
     "data": {
      "text/plain": [
       "(array([25., 17., 24., 25., 19., 11., 10., 12.,  6.,  2.]),\n",
       " array([1.32373367, 1.42120261, 1.51867156, 1.61614051, 1.71360945,\n",
       "        1.8110784 , 1.90854735, 2.00601629, 2.10348524, 2.20095419,\n",
       "        2.29842313]),\n",
       " <a list of 10 Patch objects>)"
      ]
     },
     "execution_count": 50,
     "metadata": {},
     "output_type": "execute_result"
    },
    {
     "data": {
      "image/png": "[encoded data removed]",
      "text/plain": [
       "<Figure size 432x288 with 1 Axes>"
      ]
     },
     "metadata": {
      "needs_background": "light"
     },
     "output_type": "display_data"
    }
   ],
   "source": [
    "test = ((1 -beta*countries['hdi'])*r0 + 0.75*r0)*exp(-alpha*10)\n",
    "\n",
    "pyplot.hist(test)"
   ]
  },
  {
   "cell_type": "code",
   "execution_count": 9,
   "metadata": {},
   "outputs": [
    {
     "name": "stdout",
     "output_type": "stream",
     "text": [
      "France : 8066494086.322708 -8002294086.322708\n",
      "Germany : 0.4774076988840982 81499999.5225923\n",
      "France : 6.506832705968794e+17 -6.506832705326794e+17\n",
      "Germany : 36922355.87764224 44577644.12235776\n"
     ]
    }
   ],
   "source": [
    "def time(t):\n",
    "    return exp(-alpha*t)\n",
    "\n",
    "# We calculate the average number infected by an incubated person in a week\n",
    "def reproduction_number_by_country(t):\n",
    "    return (1 -beta*countries['hdi'] + 0.75)*r0*time(t)\n",
    "    \n",
    "def number_incubated(t):\n",
    "    ri = reproduction_number_by_country(t)\n",
    "    incubation_staying = {}\n",
    "    incubation_coming = {}\n",
    "    for i in countries.index:\n",
    "        incubation_staying[i] = countries.loc[i]['incubation'+str(t-1)]*(1 - \n",
    "                                1/(countries.loc[i]['healthy'+str(t-1)]\n",
    "                        - countries.loc[i]['sick'+str(t-1)]))*countries.loc[i]['sum_travel_neighbors']\n",
    "        #incubation coming\n",
    "        neighbors = return_list_neighbors(i, g)\n",
    "        sum = 0\n",
    "        for j in neighbors:\n",
    "            sum += g[j][i]['weight']*countries.loc[j]['incubation'+str(t-1)]/(countries.loc[j]['healthy'+str(t-1)] -\n",
    "                                      countries.loc[j]['sick'+str(t-1)])\n",
    "        incubation_coming[i] = sum\n",
    "    \n",
    "    countries['recovered'+str(t)] = (1 - mortality_rate)*countries['sick'+str(t-1)]\n",
    "    countries['infected'+str(t)] = [((incubation_staying[i] \n",
    "                + incubation_coming[i])*(1 + ri[i]) - \n",
    "                countries.loc[i]['recovered'+str(t)]) for i in countries.index]\n",
    "    \n",
    "    countries['healthy'+str(t)] = [countries.loc[i]['population'] - countries.loc[i]['infected'+str(t)] for i in countries.index]\n",
    "    countries['sick'+str(t)] = countries['incubation'+str(t - 1)] \n",
    "    countries['incubation'+str(t)] = countries['infected'+str(t)] - countries['sick'+str(t)]\n",
    "    \n",
    "number_incubated(1)\n",
    "print('France :', countries.loc['France']['infected1'],  countries.loc['France']['healthy1'])\n",
    "print('Germany :', countries.loc['Germany']['infected1'],  countries.loc['Germany']['healthy1'])\n",
    "number_incubated(2)\n",
    "print('France :', countries.loc['France']['infected2'],  countries.loc['France']['healthy2'])\n",
    "print('Germany :', countries.loc['Germany']['infected2'],  countries.loc['Germany']['healthy2'])"
   ]
  },
  {
   "cell_type": "code",
   "execution_count": null,
   "metadata": {},
   "outputs": [],
   "source": [
    "'''\n",
    "#nx.draw(g, pos=nx.spring_layout(g), node_color='b', node_size=50, with_labels=True)\n",
    "#nx.draw_networkx_nodes(g, pos=nx.spring_layout(g), node_color='b', node_size=50, with_labels=True)\n",
    "#nx.draw_networkx_labels(g, pos=nx.spring_layout(g))\n",
    "#plt.show()\n",
    "\n",
    "\n",
    "# create a copy and save\n",
    "def number_of_incubated(t):\n",
    "    ri = reproduction_number_by_country(countries['country'], t)\n",
    "    countries['infected'] = (countries['incubation'] -\n",
    "                            (countries['incubation']/(countries['healthy']-countries['sick']))\n",
    "                             *country_info[['country']==countries['country']]['nb_voy']) * (1 + ri)\n",
    "    neighbors = get_neighbors([countries['country']])\n",
    "    weights = []\n",
    "    for n in neighbors:\n",
    "        weights.append(nodes[['i'] == countries['country'] and nodes[['i'] == n]\n",
    "    return countries\n",
    "\n",
    "def number_incubated(nodes, i, t):\n",
    "    ri = reproduction_number_by_country(countries['country'], t)\n",
    "    neighbors = get_neighbors(i)\n",
    "\n",
    "    res = countries[['country'] == i]['incubation'] - countries[['country'] == i]['incubation'] / \\\n",
    "    (countries[['country'] == i]['healthy']-countries[['country'] == i]['sick'])* \\\n",
    "    country_info[['country']==i]['nb_voy'] \\\n",
    "    * (1 + ri)\n",
    "    sum = 0\n",
    "    for n in neighbors:\n",
    "        weight = nodes[nodes[['i']== n and nodes[['j'] == i]]['weight']]\n",
    "        r = weight * (countries[['country']==i]['incubation'] / countries[['country']==i]['inhabitants']\n",
    "                      - countries[['country']==n]['sick']) * (1 + ri)\n",
    "        sum += r\n",
    "    return res + sum\n",
    "\n",
    "\n",
    "for t in range(1, 10):\n",
    "    # we do the action over the df of countries\n",
    "    countries['incubation'] = number_of_incubated(nodes, i, t)\n",
    "    countries['inhabitants'] = countries['inhabitants'] - mortality_rate * countries['sick']\n",
    "    countries['recover'] = countries['sick'] * (1 - mortality_rate)\n",
    "    # next period the incubated people become sick\n",
    "    countries['sick'] = countries['incubated']\n",
    "    countries['infected'] = countries['sick'] + countries['incubation']\n",
    "    countries['healthy'] = countries['inhabitants'] - countries['infected']'''"
   ]
  }
 ],
 "metadata": {
  "kernelspec": {
   "display_name": "Python 3",
   "language": "python",
   "name": "python3"
  },
  "language_info": {
   "codemirror_mode": {
    "name": "ipython",
    "version": 3
   },
   "file_extension": ".py",
   "mimetype": "text/x-python",
   "name": "python",
   "nbconvert_exporter": "python",
   "pygments_lexer": "ipython3",
   "version": "3.6.8"
  }
 },
 "nbformat": 4,
 "nbformat_minor": 2
}
