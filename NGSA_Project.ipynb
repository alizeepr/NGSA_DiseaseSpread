{
 "cells": [
  {
   "cell_type": "code",
   "execution_count": 1,
   "metadata": {
    "scrolled": true
   },
   "outputs": [
    {
     "name": "stdout",
     "output_type": "stream",
     "text": [
      "Number of nodes 151\n",
      "Number of edges 1851\n"
     ]
    }
   ],
   "source": [
    "import pandas as pd\n",
    "import networkx as nx\n",
    "from math import exp\n",
    "import matplotlib.pyplot as plt\n",
    "import numpy as np\n",
    "\n",
    "nodes = pd.read_csv('routes.csv', header=None, names=['i', 'j'])\n",
    "g = nx.from_pandas_edgelist(nodes, 'i', 'j')\n",
    "print('Number of nodes', g.number_of_nodes())\n",
    "print('Number of edges', g.number_of_edges())"
   ]
  },
  {
   "cell_type": "code",
   "execution_count": 2,
   "metadata": {},
   "outputs": [
    {
     "data": {
      "text/html": [
       "<div>\n",
       "<style scoped>\n",
       "    .dataframe tbody tr th:only-of-type {\n",
       "        vertical-align: middle;\n",
       "    }\n",
       "\n",
       "    .dataframe tbody tr th {\n",
       "        vertical-align: top;\n",
       "    }\n",
       "\n",
       "    .dataframe thead th {\n",
       "        text-align: right;\n",
       "    }\n",
       "</style>\n",
       "<table border=\"1\" class=\"dataframe\">\n",
       "  <thead>\n",
       "    <tr style=\"text-align: right;\">\n",
       "      <th></th>\n",
       "      <th>population</th>\n",
       "      <th>travellers</th>\n",
       "      <th>hdi</th>\n",
       "    </tr>\n",
       "    <tr>\n",
       "      <th>country</th>\n",
       "      <th></th>\n",
       "      <th></th>\n",
       "      <th></th>\n",
       "    </tr>\n",
       "  </thead>\n",
       "  <tbody>\n",
       "    <tr>\n",
       "      <th>Afghanistan</th>\n",
       "      <td>32760000.0</td>\n",
       "      <td>37113.596154</td>\n",
       "      <td>0.498</td>\n",
       "    </tr>\n",
       "    <tr>\n",
       "      <th>Albania</th>\n",
       "      <td>2900000.0</td>\n",
       "      <td>79730.769231</td>\n",
       "      <td>0.773</td>\n",
       "    </tr>\n",
       "    <tr>\n",
       "      <th>Algeria</th>\n",
       "      <td>39100000.0</td>\n",
       "      <td>54596.153846</td>\n",
       "      <td>0.747</td>\n",
       "    </tr>\n",
       "    <tr>\n",
       "      <th>Angola</th>\n",
       "      <td>26920000.0</td>\n",
       "      <td>23932.519231</td>\n",
       "      <td>0.581</td>\n",
       "    </tr>\n",
       "    <tr>\n",
       "      <th>Antigua and Barbuda</th>\n",
       "      <td>98000.0</td>\n",
       "      <td>19996.326923</td>\n",
       "      <td>0.780</td>\n",
       "    </tr>\n",
       "  </tbody>\n",
       "</table>\n",
       "</div>"
      ],
      "text/plain": [
       "                     population    travellers    hdi\n",
       "country                                             \n",
       "Afghanistan          32760000.0  37113.596154  0.498\n",
       "Albania               2900000.0  79730.769231  0.773\n",
       "Algeria              39100000.0  54596.153846  0.747\n",
       "Angola               26920000.0  23932.519231  0.581\n",
       "Antigua and Barbuda     98000.0  19996.326923  0.780"
      ]
     },
     "execution_count": 2,
     "metadata": {},
     "output_type": "execute_result"
    }
   ],
   "source": [
    "# We have a dataframe of countries (nodes)\n",
    "countries = pd.read_csv('data.csv')\n",
    "countries.set_index('country', inplace=True)\n",
    "countries['population'] = 1000000*countries['population']\n",
    "# Travellers are for an entire year, but our timeline is weekly\n",
    "countries['travellers'] = countries['travellers']/52\n",
    "\n",
    "countries.head()"
   ]
  },
  {
   "cell_type": "code",
   "execution_count": 3,
   "metadata": {},
   "outputs": [
    {
     "name": "stdout",
     "output_type": "stream",
     "text": [
      "Albania's neighbors : ['Austria', 'Germany', 'Greece', 'Italy', 'Slovenia', 'Turkey', 'United Kingdom']\n"
     ]
    },
    {
     "data": {
      "text/html": [
       "<div>\n",
       "<style scoped>\n",
       "    .dataframe tbody tr th:only-of-type {\n",
       "        vertical-align: middle;\n",
       "    }\n",
       "\n",
       "    .dataframe tbody tr th {\n",
       "        vertical-align: top;\n",
       "    }\n",
       "\n",
       "    .dataframe thead th {\n",
       "        text-align: right;\n",
       "    }\n",
       "</style>\n",
       "<table border=\"1\" class=\"dataframe\">\n",
       "  <thead>\n",
       "    <tr style=\"text-align: right;\">\n",
       "      <th></th>\n",
       "      <th>population</th>\n",
       "      <th>travellers</th>\n",
       "      <th>hdi</th>\n",
       "      <th>sum_travel_neighbors</th>\n",
       "    </tr>\n",
       "    <tr>\n",
       "      <th>country</th>\n",
       "      <th></th>\n",
       "      <th></th>\n",
       "      <th></th>\n",
       "      <th></th>\n",
       "    </tr>\n",
       "  </thead>\n",
       "  <tbody>\n",
       "    <tr>\n",
       "      <th>Afghanistan</th>\n",
       "      <td>32760000.0</td>\n",
       "      <td>37113.596154</td>\n",
       "      <td>0.498</td>\n",
       "      <td>2.739243e+06</td>\n",
       "    </tr>\n",
       "    <tr>\n",
       "      <th>Albania</th>\n",
       "      <td>2900000.0</td>\n",
       "      <td>79730.769231</td>\n",
       "      <td>0.773</td>\n",
       "      <td>3.826346e+06</td>\n",
       "    </tr>\n",
       "    <tr>\n",
       "      <th>Algeria</th>\n",
       "      <td>39100000.0</td>\n",
       "      <td>54596.153846</td>\n",
       "      <td>0.747</td>\n",
       "      <td>1.192336e+07</td>\n",
       "    </tr>\n",
       "    <tr>\n",
       "      <th>Angola</th>\n",
       "      <td>26920000.0</td>\n",
       "      <td>23932.519231</td>\n",
       "      <td>0.581</td>\n",
       "      <td>9.622885e+06</td>\n",
       "    </tr>\n",
       "    <tr>\n",
       "      <th>Antigua and Barbuda</th>\n",
       "      <td>98000.0</td>\n",
       "      <td>19996.326923</td>\n",
       "      <td>0.780</td>\n",
       "      <td>6.018484e+06</td>\n",
       "    </tr>\n",
       "  </tbody>\n",
       "</table>\n",
       "</div>"
      ],
      "text/plain": [
       "                     population    travellers    hdi  sum_travel_neighbors\n",
       "country                                                                   \n",
       "Afghanistan          32760000.0  37113.596154  0.498          2.739243e+06\n",
       "Albania               2900000.0  79730.769231  0.773          3.826346e+06\n",
       "Algeria              39100000.0  54596.153846  0.747          1.192336e+07\n",
       "Angola               26920000.0  23932.519231  0.581          9.622885e+06\n",
       "Antigua and Barbuda     98000.0  19996.326923  0.780          6.018484e+06"
      ]
     },
     "execution_count": 3,
     "metadata": {},
     "output_type": "execute_result"
    }
   ],
   "source": [
    "# For each country, we need the travellers going from the neighboring countries\n",
    "def return_list_neighbors(i, g):\n",
    "    return [j for j in g.neighbors(i)]\n",
    "print('Albania\\'s neighbors :', return_list_neighbors('Albania', g))\n",
    "\n",
    "# For all countries\n",
    "def compute_sum_travelers_neighboring_countries(g):\n",
    "    sum_travel_neighbors = []\n",
    "    for i in countries.index:\n",
    "        neighbors = return_list_neighbors(i, g)\n",
    "        sum = 0\n",
    "        for n in neighbors:\n",
    "            sum += countries.loc[n]['travellers']\n",
    "        sum_travel_neighbors.append(sum)\n",
    "    return sum_travel_neighbors\n",
    "countries['sum_travel_neighbors'] = compute_sum_travelers_neighboring_countries(g)\n",
    "\n",
    "countries.head()"
   ]
  },
  {
   "cell_type": "code",
   "execution_count": 4,
   "metadata": {},
   "outputs": [
    {
     "name": "stdout",
     "output_type": "stream",
     "text": [
      "France - Germany : {'weight': 88582.44661152952}\n",
      "France - UK : {'weight': 62802.53397113779}\n"
     ]
    }
   ],
   "source": [
    "# W_ij the weight between country i and j represents the number of travellers between i and j\n",
    "def compute_edge_weight(i, j):\n",
    "    return countries.loc[i]['travellers']*countries.loc[j]['travellers']/(countries.loc[i]['sum_travel_neighbors'])\n",
    "        \n",
    "def add_edge_weights():\n",
    "    for e in g.edges():\n",
    "        g[e[0]][e[1]]['weight'] = compute_edge_weight(e[0], e[1])\n",
    "\n",
    "add_edge_weights()\n",
    "print('France - Germany :', g['France']['Germany'])\n",
    "print('France - UK :', g['France']['United Kingdom'])"
   ]
  },
  {
   "cell_type": "code",
   "execution_count": 5,
   "metadata": {},
   "outputs": [],
   "source": [
    "# Initialisation for our model :\n",
    "r0 = 3\n",
    "alpha = 0.06\n",
    "beta = 1\n",
    "period = 20\n",
    "mortality_rate = 0.2\n",
    "country_start = 'France'\n",
    "nb_infected_start = 100\n",
    "\n",
    "# # Initialisation for t=0 :\n",
    "countries['incubation0'] = np.zeros(countries.shape[0])\n",
    "countries['sick0'] = np.zeros(countries.shape[0])\n",
    "countries['dead0'] = np.zeros(countries.shape[0])\n",
    "countries['infected0'] = np.zeros(countries.shape[0])\n",
    "countries['healthy0'] = countries['population']\n",
    "# We infect the starting country with a certain number of people\n",
    "countries.loc[country_start]['infected0'] = nb_infected_start\n",
    "countries.loc[country_start]['incubation0'] = nb_infected_start\n",
    "countries.loc[country_start]['healthy0'] = countries.loc[country_start]['population'] - countries.loc[country_start]['incubation0']"
   ]
  },
  {
   "cell_type": "code",
   "execution_count": 6,
   "metadata": {},
   "outputs": [
    {
     "data": {
      "text/plain": [
       "(array([ 2.,  6., 12., 10., 11., 19., 25., 24., 17., 25.]),\n",
       " array([0.354 , 0.4132, 0.4724, 0.5316, 0.5908, 0.65  , 0.7092, 0.7684,\n",
       "        0.8276, 0.8868, 0.946 ]),\n",
       " <a list of 10 Patch objects>)"
      ]
     },
     "execution_count": 6,
     "metadata": {},
     "output_type": "execute_result"
    },
    {
     "data": {
      "image/png": "[encoded data removed]",
      "text/plain": [
       "<Figure size 432x288 with 1 Axes>"
      ]
     },
     "metadata": {
      "needs_background": "light"
     },
     "output_type": "display_data"
    }
   ],
   "source": [
    "from matplotlib import pyplot\n",
    "pyplot.hist(countries['hdi'])"
   ]
  },
  {
   "cell_type": "code",
   "execution_count": 7,
   "metadata": {},
   "outputs": [
    {
     "data": {
      "text/plain": [
       "(array([25., 17., 24., 25., 19., 11., 10., 12.,  6.,  2.]),\n",
       " array([1.78685355, 1.91842286, 2.04999218, 2.1815615 , 2.31313081,\n",
       "        2.44470013, 2.57626944, 2.70783876, 2.83940808, 2.97097739,\n",
       "        3.10254671]),\n",
       " <a list of 10 Patch objects>)"
      ]
     },
     "execution_count": 7,
     "metadata": {},
     "output_type": "execute_result"
    },
    {
     "data": {
      "image/png": "[encoded data removed]",
      "text/plain": [
       "<Figure size 432x288 with 1 Axes>"
      ]
     },
     "metadata": {
      "needs_background": "light"
     },
     "output_type": "display_data"
    }
   ],
   "source": [
    "test = ((1 -beta*countries['hdi'])*r0 + 0.75*r0)*exp(-alpha*5)\n",
    "\n",
    "pyplot.hist(test)"
   ]
  },
  {
   "cell_type": "code",
   "execution_count": 8,
   "metadata": {},
   "outputs": [
    {
     "name": "stdout",
     "output_type": "stream",
     "text": [
      "Afghanistan : 3.5372675881424382\n",
      "France : 2.418451322244351\n"
     ]
    }
   ],
   "source": [
    "# Contamination decreases with time\n",
    "def time(t):\n",
    "    return exp(-alpha*t)\n",
    "\n",
    "# We calculate the average number infected by an incubated person in a week\n",
    "# The higher the HDI of a country, the less people will be infected\n",
    "def reproduction_number_by_country(t):\n",
    "    return (1 -beta*countries['hdi'] + 0.75)*r0*time(t)\n",
    "\n",
    "ri = reproduction_number_by_country(1)\n",
    "print('Afghanistan :', ri['Afghanistan'])\n",
    "print('France :', ri['France'])"
   ]
  },
  {
   "cell_type": "code",
   "execution_count": 9,
   "metadata": {},
   "outputs": [
    {
     "name": "stdout",
     "output_type": "stream",
     "text": [
      "Number of incubated staying in France : 98.05177317553934\n",
      "Number of incubated coming to France : 0.0\n",
      "Number of incubated coming to Germany : 0.1379791037237278\n",
      "Number of incubated coming to the UK : 0.09782341401020529\n",
      "For all of France' neighbors : 2.0675078328777334\n"
     ]
    }
   ],
   "source": [
    "# Incubated people staying in the country at time t\n",
    "def number_incubated_staying(t):\n",
    "    incubated_staying = {}\n",
    "    for i in countries.index:\n",
    "        incubated_staying[i] = countries.loc[i]['incubation'+str(t-1)]*(1 - \n",
    "                    countries.loc[i]['travellers']/(countries.loc[i]['healthy'+str(t-1)] - \n",
    "                    countries.loc[i]['sick'+str(t-1)]))\n",
    "    return incubated_staying\n",
    "# Incubated people coming to the country at time t\n",
    "def number_incubated_coming(t):\n",
    "    incubated_coming = {}\n",
    "    for i in countries.index:\n",
    "        neighbors = return_list_neighbors(i, g)\n",
    "        sum = 0\n",
    "        for j in neighbors:\n",
    "            sum += g[j][i]['weight']*countries.loc[j]['incubation'+str(t-1)]/(countries.loc[j]['healthy'+str(t-1)] - \n",
    "                                                                              countries.loc[j]['sick'+str(t-1)])\n",
    "        incubated_coming[i] = sum\n",
    "    return incubated_coming\n",
    "\n",
    "incubated_coming = number_incubated_coming(1)\n",
    "print('Number of incubated staying in France :', number_incubated_staying(1)['France'])\n",
    "print('Number of incubated coming to France :', incubated_coming['France'])\n",
    "print('Number of incubated coming to Germany :', incubated_coming['Germany'])\n",
    "print('Number of incubated coming to the UK :', incubated_coming['United Kingdom'])\n",
    "\n",
    "sum = 0\n",
    "for n in return_list_neighbors('France', g):\n",
    "    sum += incubated_coming[n]\n",
    "print('For all of France\\' neighbors :', sum)"
   ]
  },
  {
   "cell_type": "code",
   "execution_count": 11,
   "metadata": {},
   "outputs": [
    {
     "name": "stdout",
     "output_type": "stream",
     "text": [
      "Country : \t Infected \t Dead\n",
      "1\n",
      "France : \t 335.185 \t 0.0\n",
      "Germany : \t 0.458 \t 0.0\n",
      "UK : \t \t 0.327 \t 0.0\n",
      "Afghanistan : \t 0.0 \t 0.0\n",
      "2\n",
      "France : \t 755.865 \t 20.0\n",
      "Germany : \t 2.504 \t 0.0\n",
      "UK : \t \t 1.804 \t 0.0\n",
      "Afghanistan : \t 0.005 \t 0.0\n",
      "3\n",
      "France : \t 1605.777 \t 47.037\n",
      "Germany : \t 8.501 \t 0.092\n",
      "UK : \t \t 6.172 \t 0.065\n",
      "Afghanistan : \t 0.043 \t 0.0\n",
      "4\n",
      "France : \t 3213.667 \t 104.136\n",
      "Germany : \t 23.495 \t 0.409\n",
      "UK : \t \t 17.187 \t 0.295\n",
      "Afghanistan : \t 0.205 \t 0.001\n",
      "5\n",
      "France : \t 6058.762 \t 217.019\n",
      "Germany : \t 56.736 \t 1.291\n",
      "UK : \t \t 41.813 \t 0.939\n",
      "Afghanistan : \t 0.765 \t 0.007\n",
      "6\n",
      "France : \t 10760.344 \t 425.714\n",
      "Germany : \t 123.289 \t 3.408\n",
      "UK : \t \t 91.515 \t 2.498\n",
      "Afghanistan : \t 2.434 \t 0.033\n",
      "7\n",
      "France : \t 18001.911 \t 786.038\n",
      "Germany : \t 244.759 \t 7.939\n",
      "UK : \t \t 182.947 \t 5.864\n",
      "Afghanistan : \t 6.869 \t 0.12\n",
      "8\n",
      "France : \t 28369.462 \t 1366.03\n",
      "Germany : \t 447.879 \t 16.718\n",
      "UK : \t \t 337.017 \t 12.439\n",
      "Afghanistan : \t 17.588 \t 0.367\n",
      "9\n",
      "France : \t 42112.644 \t 2234.352\n",
      "Germany : \t 759.726 \t 32.233\n",
      "UK : \t \t 575.348 \t 24.151\n",
      "Afghanistan : \t 41.384 \t 1.007\n",
      "10\n",
      "France : \t 58883.116 \t 3439.541\n",
      "Germany : \t 1199.278 \t 57.342\n",
      "UK : \t \t 913.785 \t 43.253\n",
      "Afghanistan : \t 90.234 \t 2.511\n",
      "11\n",
      "France : \t 77548.465 \t 4982.988\n",
      "Germany : \t 1766.743 \t 94.603\n",
      "UK : \t \t 1353.951 \t 71.817\n",
      "Afghanistan : \t 183.298 \t 5.766\n",
      "12\n",
      "France : \t 96193.762 \t 6793.635\n",
      "Germany : \t 2434.15 \t 145.253\n",
      "UK : \t \t 1875.521 \t 110.94\n",
      "Afghanistan : \t 348.137 \t 12.281\n",
      "13\n",
      "France : \t 112382.714 \t 8716.058\n",
      "Germany : \t 3141.803 \t 208.096\n",
      "UK : \t \t 2432.869 \t 159.85\n",
      "Afghanistan : \t 619.745 \t 24.379\n",
      "14\n",
      "France : \t 123657.383 \t 10522.694\n",
      "Germany : \t 3804.357 \t 278.734\n",
      "UK : \t \t 2959.264 \t 215.254\n",
      "Afghanistan : \t 1035.804 \t 45.249\n",
      "15\n",
      "France : \t 128144.537 \t 11953.848\n",
      "Germany : \t 4327.025 \t 349.627\n",
      "UK : \t \t 3379.284 \t 271.32\n",
      "Afghanistan : \t 1627.242 \t 78.7\n",
      "16\n",
      "France : \t 125064.85 \t 12777.628\n",
      "Germany : \t 4628.035 \t 411.245\n",
      "UK : \t \t 3626.621 \t 320.533\n",
      "Afghanistan : \t 2404.861 \t 128.461\n",
      "17\n",
      "France : \t 114954.823 \t 12851.279\n",
      "Germany : \t 4659.997 \t 454.16\n",
      "UK : \t \t 3661.51 \t 355.324\n",
      "Afghanistan : \t 3345.33 \t 196.988\n",
      "18\n",
      "France : \t 99514.542 \t 12161.691\n",
      "Germany : \t 4422.389 \t 471.447\n",
      "UK : \t \t 3481.397 \t 370.001\n",
      "Afghanistan : \t 4382.004 \t 283.984\n",
      "19\n",
      "France : \t 81140.495 \t 10829.274\n",
      "Germany : \t 3960.577 \t 460.552\n",
      "UK : \t \t 3120.885 \t 362.301\n",
      "Afghanistan : \t 5406.47 \t 385.081\n",
      "20\n",
      "France : \t 62319.795 \t 9073.634\n",
      "Germany : \t 3352.099 \t 423.925\n",
      "UK : \t \t 2641.194 \t 333.978\n",
      "Afghanistan : \t 6284.169 \t 491.319\n"
     ]
    }
   ],
   "source": [
    "def infection_impact(t):\n",
    "    ri = reproduction_number_by_country(t)\n",
    "    incubated_staying = number_incubated_staying(t)\n",
    "    incubated_coming = number_incubated_coming(t)\n",
    "    \n",
    "    countries['dead'+str(t)] = mortality_rate*countries['sick'+str(t-1)]\n",
    "    countries['infected'+str(t)] = [(incubated_staying[i] \n",
    "                + incubated_coming[i])*(1 + ri[i]) for i in countries.index]\n",
    "    \n",
    "    countries['healthy'+str(t)] = [countries.loc[i]['population'] - countries.loc[i]['infected'+str(t)] for i in countries.index]\n",
    "    countries['sick'+str(t)] = countries['incubation'+str(t - 1)] \n",
    "    countries['incubation'+str(t)] = countries['infected'+str(t)] - countries['sick'+str(t)]\n",
    "\n",
    "print('Country : \\t Infected \\t Dead')\n",
    "for p in range(1, period+1):\n",
    "    infection_impact(p)\n",
    "    print(p)\n",
    "    print('France : \\t', round(countries.loc['France']['infected'+str(p)], 3), '\\t',\n",
    "                      round(countries.loc['France']['dead'+str(p)], 3))\n",
    "    print('Germany : \\t', round(countries.loc['Germany']['infected'+str(p)], 3), '\\t',\n",
    "                       round(countries.loc['Germany']['dead'+str(p)], 3))\n",
    "    print('UK : \\t \\t', round(countries.loc['United Kingdom']['infected'+str(p)], 3), '\\t',\n",
    "                  round(countries.loc['United Kingdom']['dead'+str(p)], 3))\n",
    "    print('Afghanistan : \\t', round(countries.loc['Afghanistan']['infected'+str(p)], 3), '\\t',\n",
    "                           round(countries.loc['Afghanistan']['dead'+str(p)], 3))"
   ]
  },
  {
   "cell_type": "code",
   "execution_count": null,
   "metadata": {},
   "outputs": [],
   "source": []
  }
 ],
 "metadata": {
  "kernelspec": {
   "display_name": "Python 3",
   "language": "python",
   "name": "python3"
  },
  "language_info": {
   "codemirror_mode": {
    "name": "ipython",
    "version": 3
   },
   "file_extension": ".py",
   "mimetype": "text/x-python",
   "name": "python",
   "nbconvert_exporter": "python",
   "pygments_lexer": "ipython3",
   "version": "3.6.8"
  }
 },
 "nbformat": 4,
 "nbformat_minor": 2
}
