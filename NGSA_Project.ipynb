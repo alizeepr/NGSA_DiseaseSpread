{
 "cells": [
  {
   "cell_type": "code",
   "execution_count": 202,
   "metadata": {},
   "outputs": [
    {
     "name": "stdout",
     "output_type": "stream",
     "text": [
      "Number of nodes 151\n",
      "Number of edges 1851\n",
      "Albania's neighbors : ['Austria', 'Germany', 'Greece', 'Italy', 'Slovenia', 'Turkey', 'United Kingdom']\n",
      "{'weight': 714719.8131868131}\n"
     ]
    },
    {
     "data": {
      "text/plain": [
       "\"\\n# create a copy and save\\ndef number_of_incubated(t):\\n    ri = reproduction_number_by_country(countries['country'], t)\\n    countries['infected'] = (countries['incubation'] -\\n                            (countries['incubation']/(countries['healthy']-countries['sick']))\\n                             *country_info[['country']==countries['country']]['nb_voy']) * (1 + ri)\\n    neighbors = get_neighbors([countries['country']])\\n    weights = []\\n    for n in neighbors:\\n        weights.append(nodes[['i'] == countries['country'] and nodes[['i'] == n]\\n    return countries\\n\\ndef number_incubated(nodes, i, t):\\n    ri = reproduction_number_by_country(countries['country'], t)\\n    neighbors = get_neighbors(i)\\n\\n    res = countries[['country'] == i]['incubation'] - countries[['country'] == i]['incubation'] /     (countries[['country'] == i]['healthy']-countries[['country'] == i]['sick'])*     country_info[['country']==i]['nb_voy']     * (1 + ri)\\n    sum = 0\\n    for n in neighbors:\\n        weight = nodes[nodes[['i']== n and nodes[['j'] == i]]['weight']]\\n        r = weight * (countries[['country']==i]['incubation'] / countries[['country']==i]['inhabitants']\\n                      - countries[['country']==n]['sick']) * (1 + ri)\\n        sum += r\\n    return res + sum\\n\\n\\nfor t in range(1, 10):\\n    # we do the action over the df of countries\\n    countries['incubation'] = number_of_incubated(nodes, i, t)\\n    countries['inhabitants'] = countries['inhabitants'] - mortality_rate * countries['sick']\\n    countries['recover'] = countries['sick'] * (1 - mortality_rate)\\n    # next period the incubated people become sick\\n    countries['sick'] = countries['incubated']\\n    countries['infected'] = countries['sick'] + countries['incubation']\\n    countries['healthy'] = countries['inhabitants'] - countries['infected']\""
      ]
     },
     "execution_count": 202,
     "metadata": {},
     "output_type": "execute_result"
    }
   ],
   "source": [
    "import pandas as pd\n",
    "import networkx as nx\n",
    "from math import exp\n",
    "import matplotlib.pyplot as plt\n",
    "import numpy as np\n",
    "\n",
    "nodes = pd.read_csv('routes.csv', header=None, names=['i', 'j'])\n",
    "g = nx.from_pandas_edgelist(nodes, 'i', 'j')\n",
    "print('Number of nodes', g.number_of_nodes())\n",
    "print('Number of edges', g.number_of_edges())\n",
    "\n",
    "# Initialisation\n",
    "\n",
    "# We have a dataframe of countries (nodes)\n",
    "countries = pd.read_csv('data.csv')\n",
    "countries.set_index('country', inplace=True)\n",
    "\n",
    "# For each country, we need the travellers going from the neighboring countries\n",
    "def return_list_neighbors(i, g):\n",
    "    return [j for j in g.neighbors(i)]\n",
    "print('Albania\\'s neighbors :', return_list_neighbors('Albania', g))\n",
    "def compute_sum_travelers_neighboring_countries(g):\n",
    "    # check what this function returns (format: index or content)\n",
    "    vi = []\n",
    "    for i in countries.index:\n",
    "        neighbors = return_list_neighbors(i, g)\n",
    "        sum = 0\n",
    "        for n in neighbors:\n",
    "            sum += countries.loc[i]['travellers']\n",
    "        vi.append(sum)\n",
    "    return vi\n",
    "countries['vi'] = compute_sum_travelers_neighboring_countries(g)\n",
    "\n",
    "# For t=0 :\n",
    "countries['incubation0'] = np.zeros(countries.shape[0])\n",
    "countries['sick0'] = np.zeros(countries.shape[0])\n",
    "countries['recover0'] = np.zeros(countries.shape[0])\n",
    "countries['infected0'] = np.zeros(countries.shape[0])\n",
    "countries['healthy0'] = countries['population']\n",
    "\n",
    "# W_ij the weight between country i and j represents the number of travellers between i and j\n",
    "def compute_edge_weight(i, j):\n",
    "    return countries.loc[i]['travellers']*countries.loc[j]['travellers']/countries.loc[i]['vi']\n",
    "        \n",
    "def add_edge_weights():\n",
    "    for e in g.edges():\n",
    "        g[e[0]][e[1]]['weight'] = compute_edge_weight(e[0], e[1])\n",
    "\n",
    "#nx.draw(g, pos=nx.spring_layout(g), node_color='b', node_size=50, with_labels=True)\n",
    "#nx.draw_networkx_nodes(g, pos=nx.spring_layout(g), node_color='b', node_size=50, with_labels=True)\n",
    "#nx.draw_networkx_labels(g, pos=nx.spring_layout(g))\n",
    "#plt.show()\n",
    "\n",
    "\n",
    "# Our model :\n",
    "r0 = 3\n",
    "alpha = 2/5\n",
    "end = 10\n",
    "mortality_rate = 0.2\n",
    "countries.loc['France']['infected0'] = 0.01\n",
    "countries.loc['France']['incubation0'] = 0.01\n",
    "countries.loc['France']['healthy0'] = countries.loc['France']['population'] - countries.loc['France']['infected0']\n",
    "countries.loc['United States']['infected0'] = 0.01\n",
    "countries.loc['United States']['incubation0'] = 0.01\n",
    "countries.loc['United States']['healthy0'] = countries.loc['United States']['population'] - countries.loc['United States']['infected0']\n",
    "\n",
    "def time(current_period):\n",
    "    return exp(-alpha*current_period)\n",
    "\n",
    "# We add the column ri to the dataframe countries\n",
    "def reproduction_number_by_country(t):\n",
    "    #countries['ri'+str(t)] = (r0 + (-2*alpha*countries['hdi']))*time(t)\n",
    "    return (r0 + (-2*alpha*countries['hdi']))*time(t)\n",
    "    \n",
    "def number_incubated(t):\n",
    "    ri = reproduction_number_by_country(t)\n",
    "    contagious_staying = []\n",
    "    contagious_coming = []\n",
    "    for i in countries.index:\n",
    "        contagious_staying.append(countries.loc[i]['incubation'+str(t-1)]*(1 - \n",
    "                                1/(countries.loc[i]['healthy'+str(t-1)]\n",
    "                        - countries.loc[i]['sick'+str(t-1)]))*countries.loc[i]['vi'])\n",
    "        #contagious coming\n",
    "        neighbors = return_list_neighbors(i, g)\n",
    "        sum = 0\n",
    "        for j in neighbors:\n",
    "            sum += g[j][i]['weight']*countries.loc[j]['incubation'+str(t-1)]/(countries.loc[j]['healthy'+str(t-1)] -\n",
    "                                      countries.loc[j]['sick'+str(t-1)])\n",
    "        contagious_coming.append(sum)\n",
    "           \n",
    "    countries['infected'+str(t)] = [(contagious_staying[i] \n",
    "                + contagious_coming[i])*(1 + ri[i]) for i in range(countries.shape[0])]\n",
    "    \n",
    "    \n",
    "add_edge_weights()\n",
    "print(g['France']['Germany'])\n",
    "number_incubated(1)\n",
    "\n",
    "'''\n",
    "# create a copy and save\n",
    "def number_of_incubated(t):\n",
    "    ri = reproduction_number_by_country(countries['country'], t)\n",
    "    countries['infected'] = (countries['incubation'] -\n",
    "                            (countries['incubation']/(countries['healthy']-countries['sick']))\n",
    "                             *country_info[['country']==countries['country']]['nb_voy']) * (1 + ri)\n",
    "    neighbors = get_neighbors([countries['country']])\n",
    "    weights = []\n",
    "    for n in neighbors:\n",
    "        weights.append(nodes[['i'] == countries['country'] and nodes[['i'] == n]\n",
    "    return countries\n",
    "\n",
    "def number_incubated(nodes, i, t):\n",
    "    ri = reproduction_number_by_country(countries['country'], t)\n",
    "    neighbors = get_neighbors(i)\n",
    "\n",
    "    res = countries[['country'] == i]['incubation'] - countries[['country'] == i]['incubation'] / \\\n",
    "    (countries[['country'] == i]['healthy']-countries[['country'] == i]['sick'])* \\\n",
    "    country_info[['country']==i]['nb_voy'] \\\n",
    "    * (1 + ri)\n",
    "    sum = 0\n",
    "    for n in neighbors:\n",
    "        weight = nodes[nodes[['i']== n and nodes[['j'] == i]]['weight']]\n",
    "        r = weight * (countries[['country']==i]['incubation'] / countries[['country']==i]['inhabitants']\n",
    "                      - countries[['country']==n]['sick']) * (1 + ri)\n",
    "        sum += r\n",
    "    return res + sum\n",
    "\n",
    "\n",
    "for t in range(1, 10):\n",
    "    # we do the action over the df of countries\n",
    "    countries['incubation'] = number_of_incubated(nodes, i, t)\n",
    "    countries['inhabitants'] = countries['inhabitants'] - mortality_rate * countries['sick']\n",
    "    countries['recover'] = countries['sick'] * (1 - mortality_rate)\n",
    "    # next period the incubated people become sick\n",
    "    countries['sick'] = countries['incubated']\n",
    "    countries['infected'] = countries['sick'] + countries['incubation']\n",
    "    countries['healthy'] = countries['inhabitants'] - countries['infected']'''"
   ]
  },
  {
   "cell_type": "code",
   "execution_count": 203,
   "metadata": {},
   "outputs": [
    {
     "name": "stdout",
     "output_type": "stream",
     "text": [
      "population     6.420000e+01\n",
      "travellers     6.503950e+07\n",
      "hdi            8.940000e-01\n",
      "vi             6.243792e+09\n",
      "incubation0    1.000000e-02\n",
      "sick0          0.000000e+00\n",
      "recover0       0.000000e+00\n",
      "infected0      1.000000e-02\n",
      "healthy0       6.419000e+01\n",
      "infected1      1.556022e+08\n",
      "Name: France, dtype: float64\n"
     ]
    }
   ],
   "source": [
    "print(countries.loc['France'])"
   ]
  },
  {
   "cell_type": "code",
   "execution_count": 153,
   "metadata": {},
   "outputs": [
    {
     "name": "stdout",
     "output_type": "stream",
     "text": [
      "{'Algeria': {}, 'Angola': {}, 'Antigua and Barbuda': {}, 'Argentina': {}, 'Armenia': {}, 'Austria': {}, 'Azerbaijan': {}, 'Belarus': {}, 'Belgium': {}, 'Benin': {}, 'Brazil': {}, 'Bulgaria': {}, 'Burkina Faso': {}, 'Cameroon': {}, 'Canada': {}, 'Cape Verde': {}, 'Chad': {}, 'Chile': {}, 'China': {}, 'Colombia': {}, 'Congo': {}, \"Cote d'Ivoire\": {}, 'Croatia': {}, 'Cuba': {}, 'Cyprus': {}, 'Czech Republic': {}, 'Denmark': {}, 'Dominican Republic': {}, 'Egypt': {}, 'Estonia': {}, 'Ethiopia': {}, 'Finland': {}, 'Bahrain': {}, 'Gabon': {}, 'Georgia': {}, 'Germany': {}, 'Greece': {}, 'Hong Kong': {}, 'Hungary': {}, 'Iceland': {}, 'India': {}, 'Iran': {}, 'Ireland': {}, 'Israel': {}, 'Italy': {}, 'Japan': {}, 'Jordan': {}, 'Kenya': {}, 'Latvia': {}, 'Lebanon': {}, 'Lithuania': {}, 'Luxembourg': {}, 'Madagascar': {}, 'Malaysia': {}, 'Malta': {}, 'Mauritania': {}, 'Mauritius': {}, 'Mexico': {}, 'Moldova': {}, 'Montenegro': {}, 'Morocco': {}, 'Netherlands': {}, 'Niger': {}, 'Nigeria': {}, 'Norway': {}, 'Oman': {}, 'Panama': {}, 'Peru': {}, 'Poland': {}, 'Portugal': {}, 'Romania': {}, 'Russia': {}, 'Saudi Arabia': {}, 'Senegal': {}, 'Serbia': {}, 'Singapore': {}, 'Slovakia': {}, 'Slovenia': {}, 'South Africa': {}, 'South Korea': {}, 'Spain': {}, 'Sri Lanka': {}, 'Sweden': {}, 'Switzerland': {}, 'Thailand': {}, 'Togo': {}, 'Tunisia': {}, 'Turkey': {}, 'Ukraine': {}, 'United Arab Emirates': {}, 'United Kingdom': {}, 'United States': {}, 'Uzbekistan': {}, 'Venezuela': {}, 'Vietnam': {}, 'Sierra Leone': {}}\n"
     ]
    }
   ],
   "source": [
    "print(g['France'])"
   ]
  },
  {
   "cell_type": "code",
   "execution_count": null,
   "metadata": {},
   "outputs": [],
   "source": []
  }
 ],
 "metadata": {
  "kernelspec": {
   "display_name": "Python 3",
   "language": "python",
   "name": "python3"
  },
  "language_info": {
   "codemirror_mode": {
    "name": "ipython",
    "version": 3
   },
   "file_extension": ".py",
   "mimetype": "text/x-python",
   "name": "python",
   "nbconvert_exporter": "python",
   "pygments_lexer": "ipython3",
   "version": "3.6.8"
  }
 },
 "nbformat": 4,
 "nbformat_minor": 2
}
